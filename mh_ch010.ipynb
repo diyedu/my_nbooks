{
 "cells": [
  {
   "cell_type": "markdown",
   "id": "cd938b82-df26-466e-a096-15654a655d46",
   "metadata": {},
   "source": [
    "# CHAPTER 10 - SIMPLE LINEAR REGRESSION"
   ]
  },
  {
   "cell_type": "markdown",
   "id": "beae9a38-5cd9-4d44-a3b5-8ccbb7b7cd4e",
   "metadata": {},
   "source": [
    "## By Marielle Howell"
   ]
  },
  {
   "cell_type": "markdown",
   "id": "f7e4a9c5-78ce-4be6-957d-d5bc0093cbb9",
   "metadata": {},
   "source": [
    "## What does a Simple Linear Regression Model do?\n",
    "#### A simple linear regression model uses a single independent variable to predict the value of a dependent variable."
   ]
  },
  {
   "cell_type": "code",
   "execution_count": 1,
   "id": "de2e86d2-b59b-4181-b40a-72522416d22d",
   "metadata": {},
   "outputs": [],
   "source": [
    "import pandas as pd\n",
    "import seaborn as sns\n",
    "from sklearn.linear_model import LinearRegression\n",
    "from sklearn.model_selection import train_test_split"
   ]
  },
  {
   "cell_type": "code",
   "execution_count": 2,
   "id": "1804a457-c4b0-407e-b4c9-143d9e08d05d",
   "metadata": {},
   "outputs": [],
   "source": [
    "data = sns.load_dataset('diamonds')"
   ]
  },
  {
   "cell_type": "code",
   "execution_count": 3,
   "id": "79a04508-5cdc-4e89-8582-d88677ab1e1f",
   "metadata": {},
   "outputs": [
    {
     "data": {
      "text/html": [
       "<div>\n",
       "<style scoped>\n",
       "    .dataframe tbody tr th:only-of-type {\n",
       "        vertical-align: middle;\n",
       "    }\n",
       "\n",
       "    .dataframe tbody tr th {\n",
       "        vertical-align: top;\n",
       "    }\n",
       "\n",
       "    .dataframe thead th {\n",
       "        text-align: right;\n",
       "    }\n",
       "</style>\n",
       "<table border=\"1\" class=\"dataframe\">\n",
       "  <thead>\n",
       "    <tr style=\"text-align: right;\">\n",
       "      <th></th>\n",
       "      <th>carat</th>\n",
       "      <th>cut</th>\n",
       "      <th>color</th>\n",
       "      <th>clarity</th>\n",
       "      <th>depth</th>\n",
       "      <th>table</th>\n",
       "      <th>price</th>\n",
       "      <th>x</th>\n",
       "      <th>y</th>\n",
       "      <th>z</th>\n",
       "    </tr>\n",
       "  </thead>\n",
       "  <tbody>\n",
       "    <tr>\n",
       "      <th>0</th>\n",
       "      <td>0.23</td>\n",
       "      <td>Ideal</td>\n",
       "      <td>E</td>\n",
       "      <td>SI2</td>\n",
       "      <td>61.5</td>\n",
       "      <td>55.0</td>\n",
       "      <td>326</td>\n",
       "      <td>3.95</td>\n",
       "      <td>3.98</td>\n",
       "      <td>2.43</td>\n",
       "    </tr>\n",
       "    <tr>\n",
       "      <th>1</th>\n",
       "      <td>0.21</td>\n",
       "      <td>Premium</td>\n",
       "      <td>E</td>\n",
       "      <td>SI1</td>\n",
       "      <td>59.8</td>\n",
       "      <td>61.0</td>\n",
       "      <td>326</td>\n",
       "      <td>3.89</td>\n",
       "      <td>3.84</td>\n",
       "      <td>2.31</td>\n",
       "    </tr>\n",
       "    <tr>\n",
       "      <th>2</th>\n",
       "      <td>0.23</td>\n",
       "      <td>Good</td>\n",
       "      <td>E</td>\n",
       "      <td>VS1</td>\n",
       "      <td>56.9</td>\n",
       "      <td>65.0</td>\n",
       "      <td>327</td>\n",
       "      <td>4.05</td>\n",
       "      <td>4.07</td>\n",
       "      <td>2.31</td>\n",
       "    </tr>\n",
       "    <tr>\n",
       "      <th>3</th>\n",
       "      <td>0.29</td>\n",
       "      <td>Premium</td>\n",
       "      <td>I</td>\n",
       "      <td>VS2</td>\n",
       "      <td>62.4</td>\n",
       "      <td>58.0</td>\n",
       "      <td>334</td>\n",
       "      <td>4.20</td>\n",
       "      <td>4.23</td>\n",
       "      <td>2.63</td>\n",
       "    </tr>\n",
       "    <tr>\n",
       "      <th>4</th>\n",
       "      <td>0.31</td>\n",
       "      <td>Good</td>\n",
       "      <td>J</td>\n",
       "      <td>SI2</td>\n",
       "      <td>63.3</td>\n",
       "      <td>58.0</td>\n",
       "      <td>335</td>\n",
       "      <td>4.34</td>\n",
       "      <td>4.35</td>\n",
       "      <td>2.75</td>\n",
       "    </tr>\n",
       "  </tbody>\n",
       "</table>\n",
       "</div>"
      ],
      "text/plain": [
       "   carat      cut color clarity  depth  table  price     x     y     z\n",
       "0   0.23    Ideal     E     SI2   61.5   55.0    326  3.95  3.98  2.43\n",
       "1   0.21  Premium     E     SI1   59.8   61.0    326  3.89  3.84  2.31\n",
       "2   0.23     Good     E     VS1   56.9   65.0    327  4.05  4.07  2.31\n",
       "3   0.29  Premium     I     VS2   62.4   58.0    334  4.20  4.23  2.63\n",
       "4   0.31     Good     J     SI2   63.3   58.0    335  4.34  4.35  2.75"
      ]
     },
     "execution_count": 3,
     "metadata": {},
     "output_type": "execute_result"
    }
   ],
   "source": [
    "data.head()"
   ]
  },
  {
   "cell_type": "markdown",
   "id": "af4669fa-0c91-4d26-8d61-e61ce27cbf70",
   "metadata": {},
   "source": [
    "## Pearson Correlation Coefficient (r-value)\n",
    "- R-values measure the linear correlation between two variables.\n",
    "- It uses a range between 1.0 and -1.0.\n",
    "- A positive correlation is present when the r-value is closer to 1.0.\n",
    "- A negative correlation is present when the r-value is closer to -1.0.\n",
    "- There will be no correlation or low correlation as the r-value gets closer to 0."
   ]
  },
  {
   "cell_type": "code",
   "execution_count": 4,
   "id": "81fc84dd-39db-4fa9-a6d8-0abb5c3822b9",
   "metadata": {},
   "outputs": [
    {
     "data": {
      "text/html": [
       "<div>\n",
       "<style scoped>\n",
       "    .dataframe tbody tr th:only-of-type {\n",
       "        vertical-align: middle;\n",
       "    }\n",
       "\n",
       "    .dataframe tbody tr th {\n",
       "        vertical-align: top;\n",
       "    }\n",
       "\n",
       "    .dataframe thead th {\n",
       "        text-align: right;\n",
       "    }\n",
       "</style>\n",
       "<table border=\"1\" class=\"dataframe\">\n",
       "  <thead>\n",
       "    <tr style=\"text-align: right;\">\n",
       "      <th></th>\n",
       "      <th>carat</th>\n",
       "      <th>depth</th>\n",
       "      <th>table</th>\n",
       "      <th>price</th>\n",
       "      <th>x</th>\n",
       "      <th>y</th>\n",
       "      <th>z</th>\n",
       "    </tr>\n",
       "  </thead>\n",
       "  <tbody>\n",
       "    <tr>\n",
       "      <th>carat</th>\n",
       "      <td>1.000000</td>\n",
       "      <td>0.028224</td>\n",
       "      <td>0.181618</td>\n",
       "      <td>0.921591</td>\n",
       "      <td>0.975094</td>\n",
       "      <td>0.951722</td>\n",
       "      <td>0.953387</td>\n",
       "    </tr>\n",
       "    <tr>\n",
       "      <th>depth</th>\n",
       "      <td>0.028224</td>\n",
       "      <td>1.000000</td>\n",
       "      <td>-0.295779</td>\n",
       "      <td>-0.010647</td>\n",
       "      <td>-0.025289</td>\n",
       "      <td>-0.029341</td>\n",
       "      <td>0.094924</td>\n",
       "    </tr>\n",
       "    <tr>\n",
       "      <th>table</th>\n",
       "      <td>0.181618</td>\n",
       "      <td>-0.295779</td>\n",
       "      <td>1.000000</td>\n",
       "      <td>0.127134</td>\n",
       "      <td>0.195344</td>\n",
       "      <td>0.183760</td>\n",
       "      <td>0.150929</td>\n",
       "    </tr>\n",
       "    <tr>\n",
       "      <th>price</th>\n",
       "      <td>0.921591</td>\n",
       "      <td>-0.010647</td>\n",
       "      <td>0.127134</td>\n",
       "      <td>1.000000</td>\n",
       "      <td>0.884435</td>\n",
       "      <td>0.865421</td>\n",
       "      <td>0.861249</td>\n",
       "    </tr>\n",
       "    <tr>\n",
       "      <th>x</th>\n",
       "      <td>0.975094</td>\n",
       "      <td>-0.025289</td>\n",
       "      <td>0.195344</td>\n",
       "      <td>0.884435</td>\n",
       "      <td>1.000000</td>\n",
       "      <td>0.974701</td>\n",
       "      <td>0.970772</td>\n",
       "    </tr>\n",
       "    <tr>\n",
       "      <th>y</th>\n",
       "      <td>0.951722</td>\n",
       "      <td>-0.029341</td>\n",
       "      <td>0.183760</td>\n",
       "      <td>0.865421</td>\n",
       "      <td>0.974701</td>\n",
       "      <td>1.000000</td>\n",
       "      <td>0.952006</td>\n",
       "    </tr>\n",
       "    <tr>\n",
       "      <th>z</th>\n",
       "      <td>0.953387</td>\n",
       "      <td>0.094924</td>\n",
       "      <td>0.150929</td>\n",
       "      <td>0.861249</td>\n",
       "      <td>0.970772</td>\n",
       "      <td>0.952006</td>\n",
       "      <td>1.000000</td>\n",
       "    </tr>\n",
       "  </tbody>\n",
       "</table>\n",
       "</div>"
      ],
      "text/plain": [
       "          carat     depth     table     price         x         y         z\n",
       "carat  1.000000  0.028224  0.181618  0.921591  0.975094  0.951722  0.953387\n",
       "depth  0.028224  1.000000 -0.295779 -0.010647 -0.025289 -0.029341  0.094924\n",
       "table  0.181618 -0.295779  1.000000  0.127134  0.195344  0.183760  0.150929\n",
       "price  0.921591 -0.010647  0.127134  1.000000  0.884435  0.865421  0.861249\n",
       "x      0.975094 -0.025289  0.195344  0.884435  1.000000  0.974701  0.970772\n",
       "y      0.951722 -0.029341  0.183760  0.865421  0.974701  1.000000  0.952006\n",
       "z      0.953387  0.094924  0.150929  0.861249  0.970772  0.952006  1.000000"
      ]
     },
     "execution_count": 4,
     "metadata": {},
     "output_type": "execute_result"
    }
   ],
   "source": [
    "data.corr().head(7)"
   ]
  },
  {
   "cell_type": "code",
   "execution_count": 5,
   "id": "4c69e889-e1f9-4c4d-8ce3-a25c2d9e8fe7",
   "metadata": {},
   "outputs": [
    {
     "data": {
      "text/plain": [
       "<AxesSubplot:>"
      ]
     },
     "execution_count": 5,
     "metadata": {},
     "output_type": "execute_result"
    },
    {
     "data": {
      "image/png": "[encoded data removed]",
      "text/plain": [
       "<Figure size 640x480 with 1 Axes>"
      ]
     },
     "metadata": {},
     "output_type": "display_data"
    }
   ],
   "source": [
    "sns.heatmap(data=data.corr()[['price']].sort_values(by='price', ascending=False), annot=True, cmap='Greens', fmt=f'.3f', cbar=False)"
   ]
  },
  {
   "cell_type": "markdown",
   "id": "7969fbac-bf4c-4240-bd74-7b78065b7764",
   "metadata": {},
   "source": [
    "## Procedure for Creating and Using a Regression Model\n",
    "1. Split the dataset into a training dataset and a test dataset.\n",
    "2. Create a regression model using the training dataset.\n",
    "3. Validate the model using the test dataset.\n",
    "4. If the model is valid, use it to predict data."
   ]
  },
  {
   "cell_type": "code",
   "execution_count": 6,
   "id": "26077882-95a6-484d-a6eb-ce928bae643e",
   "metadata": {},
   "outputs": [],
   "source": [
    "from sklearn.linear_model import LinearRegression\n",
    "from sklearn.model_selection import train_test_split "
   ]
  },
  {
   "cell_type": "code",
   "execution_count": 7,
   "id": "57b94125-e5ed-4227-8eec-5046f9222d93",
   "metadata": {},
   "outputs": [],
   "source": [
    "x_train, x_test, y_train, y_test = train_test_split(\n",
    "    data[['carat']], data[['price']], \n",
    "    test_size=0.30, random_state=20)"
   ]
  },
  {
   "cell_type": "code",
   "execution_count": 8,
   "id": "6d767b85-511d-4f8f-aff9-8404ffb582f3",
   "metadata": {},
   "outputs": [
    {
     "data": {
      "text/plain": [
       "LinearRegression()"
      ]
     },
     "execution_count": 8,
     "metadata": {},
     "output_type": "execute_result"
    }
   ],
   "source": [
    "model = LinearRegression()\n",
    "model"
   ]
  },
  {
   "cell_type": "code",
   "execution_count": 9,
   "id": "2e542117-54a9-4a31-8e28-bde4f0fbed24",
   "metadata": {},
   "outputs": [
    {
     "data": {
      "text/plain": [
       "LinearRegression()"
      ]
     },
     "execution_count": 9,
     "metadata": {},
     "output_type": "execute_result"
    }
   ],
   "source": [
    "model.fit(x_train, y_train)"
   ]
  },
  {
   "cell_type": "code",
   "execution_count": 10,
   "id": "20620229-d0c6-458b-9cc8-5981013e8c68",
   "metadata": {},
   "outputs": [
    {
     "data": {
      "text/plain": [
       "0.8504107786474794"
      ]
     },
     "execution_count": 10,
     "metadata": {},
     "output_type": "execute_result"
    }
   ],
   "source": [
    "model.score(x_test, y_test)"
   ]
  },
  {
   "cell_type": "code",
   "execution_count": 11,
   "id": "e3d07779-e5d0-45fe-9525-ecd2d3ae1a57",
   "metadata": {},
   "outputs": [
    {
     "data": {
      "text/plain": [
       "array([[9540.64191438],\n",
       "       [1940.07543252],\n",
       "       [3180.98424589],\n",
       "       ...,\n",
       "       [9618.19871522],\n",
       "       [-464.18539337],\n",
       "       [5507.68827094]])"
      ]
     },
     "execution_count": 11,
     "metadata": {},
     "output_type": "execute_result"
    }
   ],
   "source": [
    "y_predicted = model.predict(x_test)\n",
    "y_predicted"
   ]
  },
  {
   "cell_type": "code",
   "execution_count": 13,
   "id": "20db5bfd-cbda-4905-8896-f688e05f86b1",
   "metadata": {},
   "outputs": [
    {
     "data": {
      "text/html": [
       "<div>\n",
       "<style scoped>\n",
       "    .dataframe tbody tr th:only-of-type {\n",
       "        vertical-align: middle;\n",
       "    }\n",
       "\n",
       "    .dataframe tbody tr th {\n",
       "        vertical-align: top;\n",
       "    }\n",
       "\n",
       "    .dataframe thead th {\n",
       "        text-align: right;\n",
       "    }\n",
       "</style>\n",
       "<table border=\"1\" class=\"dataframe\">\n",
       "  <thead>\n",
       "    <tr style=\"text-align: right;\">\n",
       "      <th></th>\n",
       "      <th>predicted_price</th>\n",
       "    </tr>\n",
       "  </thead>\n",
       "  <tbody>\n",
       "    <tr>\n",
       "      <th>0</th>\n",
       "      <td>9540.641914</td>\n",
       "    </tr>\n",
       "    <tr>\n",
       "      <th>1</th>\n",
       "      <td>1940.075433</td>\n",
       "    </tr>\n",
       "    <tr>\n",
       "      <th>2</th>\n",
       "      <td>3180.984246</td>\n",
       "    </tr>\n",
       "  </tbody>\n",
       "</table>\n",
       "</div>"
      ],
      "text/plain": [
       "   predicted_price\n",
       "0      9540.641914\n",
       "1      1940.075433\n",
       "2      3180.984246"
      ]
     },
     "execution_count": 13,
     "metadata": {},
     "output_type": "execute_result"
    }
   ],
   "source": [
    "predicted_data = pd.DataFrame(y_predicted, columns=['predicted_price'])\n",
    "predicted_data.head(3)"
   ]
  },
  {
   "cell_type": "code",
   "execution_count": 14,
   "id": "271897f9-76c7-445c-8bc5-afca37e9e4a0",
   "metadata": {},
   "outputs": [
    {
     "data": {
      "text/html": [
       "<div>\n",
       "<style scoped>\n",
       "    .dataframe tbody tr th:only-of-type {\n",
       "        vertical-align: middle;\n",
       "    }\n",
       "\n",
       "    .dataframe tbody tr th {\n",
       "        vertical-align: top;\n",
       "    }\n",
       "\n",
       "    .dataframe thead th {\n",
       "        text-align: right;\n",
       "    }\n",
       "</style>\n",
       "<table border=\"1\" class=\"dataframe\">\n",
       "  <thead>\n",
       "    <tr style=\"text-align: right;\">\n",
       "      <th></th>\n",
       "      <th>carat</th>\n",
       "      <th>price</th>\n",
       "      <th>predicted_price</th>\n",
       "    </tr>\n",
       "  </thead>\n",
       "  <tbody>\n",
       "    <tr>\n",
       "      <th>0</th>\n",
       "      <td>1.52</td>\n",
       "      <td>8674</td>\n",
       "      <td>9540.641914</td>\n",
       "    </tr>\n",
       "    <tr>\n",
       "      <th>1</th>\n",
       "      <td>0.54</td>\n",
       "      <td>1637</td>\n",
       "      <td>1940.075433</td>\n",
       "    </tr>\n",
       "    <tr>\n",
       "      <th>2</th>\n",
       "      <td>0.70</td>\n",
       "      <td>2657</td>\n",
       "      <td>3180.984246</td>\n",
       "    </tr>\n",
       "    <tr>\n",
       "      <th>3</th>\n",
       "      <td>0.59</td>\n",
       "      <td>1838</td>\n",
       "      <td>2327.859437</td>\n",
       "    </tr>\n",
       "    <tr>\n",
       "      <th>4</th>\n",
       "      <td>0.86</td>\n",
       "      <td>2980</td>\n",
       "      <td>4421.893059</td>\n",
       "    </tr>\n",
       "  </tbody>\n",
       "</table>\n",
       "</div>"
      ],
      "text/plain": [
       "   carat  price  predicted_price\n",
       "0   1.52   8674      9540.641914\n",
       "1   0.54   1637      1940.075433\n",
       "2   0.70   2657      3180.984246\n",
       "3   0.59   1838      2327.859437\n",
       "4   0.86   2980      4421.893059"
      ]
     },
     "execution_count": 14,
     "metadata": {},
     "output_type": "execute_result"
    }
   ],
   "source": [
    "combined = x_test.reset_index(drop=True).join([y_test.reset_index(drop=True),\n",
    "                                               predicted_data.reset_index(drop=True)])\n",
    "combined.head()"
   ]
  },
  {
   "cell_type": "code",
   "execution_count": 15,
   "id": "6c083aa5-0ee7-4499-be6e-d09a2e382280",
   "metadata": {},
   "outputs": [
    {
     "data": {
      "text/html": [
       "<div>\n",
       "<style scoped>\n",
       "    .dataframe tbody tr th:only-of-type {\n",
       "        vertical-align: middle;\n",
       "    }\n",
       "\n",
       "    .dataframe tbody tr th {\n",
       "        vertical-align: top;\n",
       "    }\n",
       "\n",
       "    .dataframe thead th {\n",
       "        text-align: right;\n",
       "    }\n",
       "</style>\n",
       "<table border=\"1\" class=\"dataframe\">\n",
       "  <thead>\n",
       "    <tr style=\"text-align: right;\">\n",
       "      <th></th>\n",
       "      <th>carat</th>\n",
       "      <th>price_type</th>\n",
       "      <th>price_value</th>\n",
       "    </tr>\n",
       "  </thead>\n",
       "  <tbody>\n",
       "    <tr>\n",
       "      <th>0</th>\n",
       "      <td>1.52</td>\n",
       "      <td>price</td>\n",
       "      <td>8674.000000</td>\n",
       "    </tr>\n",
       "    <tr>\n",
       "      <th>1</th>\n",
       "      <td>0.54</td>\n",
       "      <td>price</td>\n",
       "      <td>1637.000000</td>\n",
       "    </tr>\n",
       "    <tr>\n",
       "      <th>2</th>\n",
       "      <td>0.70</td>\n",
       "      <td>price</td>\n",
       "      <td>2657.000000</td>\n",
       "    </tr>\n",
       "    <tr>\n",
       "      <th>3</th>\n",
       "      <td>0.59</td>\n",
       "      <td>price</td>\n",
       "      <td>1838.000000</td>\n",
       "    </tr>\n",
       "    <tr>\n",
       "      <th>4</th>\n",
       "      <td>0.86</td>\n",
       "      <td>price</td>\n",
       "      <td>2980.000000</td>\n",
       "    </tr>\n",
       "    <tr>\n",
       "      <th>...</th>\n",
       "      <td>...</td>\n",
       "      <td>...</td>\n",
       "      <td>...</td>\n",
       "    </tr>\n",
       "    <tr>\n",
       "      <th>32359</th>\n",
       "      <td>0.31</td>\n",
       "      <td>predicted_price</td>\n",
       "      <td>156.269013</td>\n",
       "    </tr>\n",
       "    <tr>\n",
       "      <th>32360</th>\n",
       "      <td>1.01</td>\n",
       "      <td>predicted_price</td>\n",
       "      <td>5585.245072</td>\n",
       "    </tr>\n",
       "    <tr>\n",
       "      <th>32361</th>\n",
       "      <td>1.53</td>\n",
       "      <td>predicted_price</td>\n",
       "      <td>9618.198715</td>\n",
       "    </tr>\n",
       "    <tr>\n",
       "      <th>32362</th>\n",
       "      <td>0.23</td>\n",
       "      <td>predicted_price</td>\n",
       "      <td>-464.185393</td>\n",
       "    </tr>\n",
       "    <tr>\n",
       "      <th>32363</th>\n",
       "      <td>1.00</td>\n",
       "      <td>predicted_price</td>\n",
       "      <td>5507.688271</td>\n",
       "    </tr>\n",
       "  </tbody>\n",
       "</table>\n",
       "<p>32364 rows × 3 columns</p>\n",
       "</div>"
      ],
      "text/plain": [
       "       carat       price_type  price_value\n",
       "0       1.52            price  8674.000000\n",
       "1       0.54            price  1637.000000\n",
       "2       0.70            price  2657.000000\n",
       "3       0.59            price  1838.000000\n",
       "4       0.86            price  2980.000000\n",
       "...      ...              ...          ...\n",
       "32359   0.31  predicted_price   156.269013\n",
       "32360   1.01  predicted_price  5585.245072\n",
       "32361   1.53  predicted_price  9618.198715\n",
       "32362   0.23  predicted_price  -464.185393\n",
       "32363   1.00  predicted_price  5507.688271\n",
       "\n",
       "[32364 rows x 3 columns]"
      ]
     },
     "execution_count": 15,
     "metadata": {},
     "output_type": "execute_result"
    }
   ],
   "source": [
    "melted = pd.melt(combined, id_vars=['carat'], \n",
    "                 value_vars=['price','predicted_price'], \n",
    "                 var_name='price_type', value_name='price_value')\n",
    "\n",
    "melted"
   ]
  },
  {
   "cell_type": "code",
   "execution_count": 16,
   "id": "f58c4135-574f-4d8a-aaf1-a38d1c518da7",
   "metadata": {},
   "outputs": [
    {
     "data": {
      "text/plain": [
       "<seaborn.axisgrid.FacetGrid at 0x1ee8642baf0>"
      ]
     },
     "execution_count": 16,
     "metadata": {},
     "output_type": "execute_result"
    },
    {
     "data": {
      "image/png": "[encoded data removed]",
      "text/plain": [
       "<Figure size 657.75x500 with 1 Axes>"
      ]
     },
     "metadata": {},
     "output_type": "display_data"
    }
   ],
   "source": [
    "sns.relplot(data=melted, kind='line', x='carat', y='price_value', ci=None, hue='price_type')"
   ]
  },
  {
   "cell_type": "markdown",
   "id": "a48e3ad2-5d5b-44bb-a108-043445bb0843",
   "metadata": {},
   "source": [
    "## Regression line equation is **y = mx + b**, where...\n",
    "- y is the **dependent** variable\n",
    "- m is the **slope** of the line\n",
    "- x is the **independent** variable\n",
    "- b is the **Y-intercept**"
   ]
  },
  {
   "cell_type": "code",
   "execution_count": 17,
   "id": "0f7a3d57-799e-4453-a66b-93825a243b54",
   "metadata": {},
   "outputs": [],
   "source": [
    "X = data.carat.values.reshape(-1,1)\n",
    "y = data.price"
   ]
  },
  {
   "cell_type": "code",
   "execution_count": 18,
   "id": "d5cfa6da-d2b7-40d3-9047-e8e037fd93fb",
   "metadata": {},
   "outputs": [],
   "source": [
    "lr = LinearRegression()\n",
    "predicted = lr.fit(X,y)"
   ]
  },
  {
   "cell_type": "code",
   "execution_count": 19,
   "id": "c021e83c-9ac5-4887-ac8f-8b27b94661eb",
   "metadata": {},
   "outputs": [
    {
     "name": "stdout",
     "output_type": "stream",
     "text": [
      "The slope is [7756.42561797] and the y-intercept is -2256.3605800453947\n"
     ]
    }
   ],
   "source": [
    "m = predicted.coef_\n",
    "b = predicted.intercept_\n",
    "print(f'The slope is {m} and the y-intercept is {b}')"
   ]
  },
  {
   "cell_type": "code",
   "execution_count": 20,
   "id": "67fcce06-5477-490e-b0a0-cc787197daa8",
   "metadata": {},
   "outputs": [
    {
     "name": "stdout",
     "output_type": "stream",
     "text": [
      "Regression line equation is y = [7756.42561797]x + -2256.3605800453947\n"
     ]
    }
   ],
   "source": [
    "print(f'Regression line equation is y = {m}x + {b}')"
   ]
  },
  {
   "cell_type": "code",
   "execution_count": 21,
   "id": "46a0e324-813c-4cc9-9b53-f2cf2ce44b5a",
   "metadata": {},
   "outputs": [
    {
     "name": "stdout",
     "output_type": "stream",
     "text": [
      "The predicted price for a 0.70 carat diamond is $3173.14\n"
     ]
    }
   ],
   "source": [
    "diamond1 = m * 0.70 + b\n",
    "print(f'The predicted price for a 0.70 carat diamond is ${float(diamond1):.2f}')"
   ]
  },
  {
   "cell_type": "code",
   "execution_count": 22,
   "id": "89c062f0-f79d-483d-b810-792dd19fc412",
   "metadata": {},
   "outputs": [
    {
     "name": "stdout",
     "output_type": "stream",
     "text": [
      "The predicted price for a 0.54 carat diamond is $1932.11 \n"
     ]
    }
   ],
   "source": [
    "diamond2 = m * 0.54 + b\n",
    "print(f'The predicted price for a 0.54 carat diamond is ${float(diamond2):.2f} ')"
   ]
  },
  {
   "cell_type": "markdown",
   "id": "9eede6d2-89c0-4013-8d41-bbe91b75608f",
   "metadata": {},
   "source": [
    "The predicted prices in the prior cells are close to the predicted prices in step 18 with an almost $8 difference between predicted values."
   ]
  }
 ],
 "metadata": {
  "kernelspec": {
   "display_name": "Python 3 (ipykernel)",
   "language": "python",
   "name": "python3"
  },
  "language_info": {
   "codemirror_mode": {
    "name": "ipython",
    "version": 3
   },
   "file_extension": ".py",
   "mimetype": "text/x-python",
   "name": "python",
   "nbconvert_exporter": "python",
   "pygments_lexer": "ipython3",
   "version": "3.9.13"
  }
 },
 "nbformat": 4,
 "nbformat_minor": 5
}
