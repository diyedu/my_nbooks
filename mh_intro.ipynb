{
 "cells": [
  {
   "cell_type": "markdown",
   "id": "33b14e65-ff07-4896-b61d-a450551aac84",
   "metadata": {},
   "source": [
    "# First Notebook \n",
    "## Marielle Howell"
   ]
  },
  {
   "cell_type": "code",
   "execution_count": 1,
   "id": "d3859aad-8727-49da-aa46-d29365575ccc",
   "metadata": {},
   "outputs": [],
   "source": [
    "import random\n",
    "nums = [random.randint(30, 100) for x in range(40)]"
   ]
  },
  {
   "cell_type": "code",
   "execution_count": 2,
   "id": "00d557ac-44ef-48f5-a69e-680eb3170bc5",
   "metadata": {},
   "outputs": [
    {
     "name": "stdout",
     "output_type": "stream",
     "text": [
      "30 32 32 35 36 37 39 39 39 40 40 40 42 48 49 54 56 58 59 59 64 64 66 70 72 74 75 75 76 80 80 82 82 87 89 92 95 97 98 100 "
     ]
    }
   ],
   "source": [
    "nums.sort()\n",
    "for x in nums:\n",
    "    print(x, end= ' ')"
   ]
  },
  {
   "cell_type": "markdown",
   "id": "fbcbb9b5-1487-44b0-973e-1efc190b5fa5",
   "metadata": {
    "tags": []
   },
   "source": [
    "## The Sample Mean\n",
    "* To calculate the sample mean, start by adding all of the numbers within your data set.\n",
    "* Then count how many numbers are in the set.\n",
    "* Divide the first number by the second number."
   ]
  },
  {
   "cell_type": "markdown",
   "id": "5d1bc5ed-e87a-4d0a-b576-fba32c963e80",
   "metadata": {},
   "source": [
    "$\n",
    "\\Large\n",
    "\\overline{x}= \\frac{\\sum x_i}{n}\n",
    "$"
   ]
  },
  {
   "cell_type": "code",
   "execution_count": 3,
   "id": "0a363f73-29a8-4afc-a01d-74c389d0f564",
   "metadata": {},
   "outputs": [
    {
     "name": "stdout",
     "output_type": "stream",
     "text": [
      "The sample mean is 62.05\n"
     ]
    }
   ],
   "source": [
    "sample_mean = sum(nums) / len(nums)\n",
    "print(f\"The sample mean is {sample_mean:.2f}\")"
   ]
  },
  {
   "cell_type": "markdown",
   "id": "e9cdd979-9cad-4406-809f-cebf643ba6e4",
   "metadata": {},
   "source": [
    "## The Median\n",
    "[Click to view description of Statistical Median](https://mathworld.wolfram.com/StatisticalMedian.html)"
   ]
  },
  {
   "cell_type": "code",
   "execution_count": 4,
   "id": "a61aab07-fcad-496c-b1c5-591b50992424",
   "metadata": {},
   "outputs": [
    {
     "name": "stdout",
     "output_type": "stream",
     "text": [
      "The median is 61.5\n"
     ]
    }
   ],
   "source": [
    "#To find the median for an even number of values, start by arranging the numbers from lowest to highest. \n",
    "#The median will be the average of the middle two numbers.\n",
    "\n",
    "import statistics\n",
    "median = statistics.median(nums)\n",
    "print(f\"The median is {median:.1f}\")"
   ]
  },
  {
   "cell_type": "code",
   "execution_count": null,
   "id": "82fa8859-347e-4bdc-9e9f-a53ca29ff782",
   "metadata": {},
   "outputs": [],
   "source": []
  }
 ],
 "metadata": {
  "kernelspec": {
   "display_name": "Python 3 (ipykernel)",
   "language": "python",
   "name": "python3"
  },
  "language_info": {
   "codemirror_mode": {
    "name": "ipython",
    "version": 3
   },
   "file_extension": ".py",
   "mimetype": "text/x-python",
   "name": "python",
   "nbconvert_exporter": "python",
   "pygments_lexer": "ipython3",
   "version": "3.9.13"
  }
 },
 "nbformat": 4,
 "nbformat_minor": 5
}
