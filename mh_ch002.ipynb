{
 "cells": [
  {
   "cell_type": "markdown",
   "id": "97c2bd96-8c01-445e-a536-27e7d90aeb3e",
   "metadata": {
    "tags": []
   },
   "source": [
    "# Chapter 2 Assignment"
   ]
  },
  {
   "cell_type": "markdown",
   "id": "62fadd47-96be-4da8-acb0-9ef580bfa9ab",
   "metadata": {},
   "source": [
    "## Marielle Howell"
   ]
  },
  {
   "cell_type": "code",
   "execution_count": null,
   "id": "e2dd1ba8-b2f7-442a-9909-816875ccb169",
   "metadata": {},
   "outputs": [],
   "source": [
    "import pandas as pd"
   ]
  },
  {
   "cell_type": "code",
   "execution_count": null,
   "id": "3a61b0c6-d9a8-4e46-820a-0432390c34f8",
   "metadata": {},
   "outputs": [],
   "source": [
    "ramen_ratings = pd.read_csv('ramen-ratings.csv')"
   ]
  },
  {
   "cell_type": "code",
   "execution_count": null,
   "id": "abef01ae-4b09-4434-ac90-c6cecf51b803",
   "metadata": {},
   "outputs": [],
   "source": [
    "ramen_ratings.head()"
   ]
  },
  {
   "cell_type": "code",
   "execution_count": null,
   "id": "78e6558d-9565-4ecf-a551-427e72b6f28d",
   "metadata": {},
   "outputs": [],
   "source": [
    "ramen_ratings.tail()"
   ]
  },
  {
   "cell_type": "code",
   "execution_count": null,
   "id": "6f01e0e4-99f4-4c1f-956e-13740185f2a9",
   "metadata": {},
   "outputs": [],
   "source": [
    "ramen_ratings.describe()"
   ]
  },
  {
   "cell_type": "code",
   "execution_count": null,
   "id": "606d92ec-3cca-422c-922e-86650d603aa6",
   "metadata": {},
   "outputs": [],
   "source": [
    "ramen_ratings.nunique()"
   ]
  },
  {
   "cell_type": "code",
   "execution_count": null,
   "id": "286b924c-61fd-4a72-bb05-5130df178857",
   "metadata": {},
   "outputs": [],
   "source": [
    "ramen_ratings.query('Country == \"Vietnam\"')"
   ]
  },
  {
   "cell_type": "code",
   "execution_count": null,
   "id": "fd139a81-19ab-4107-8577-475f50599bce",
   "metadata": {},
   "outputs": [],
   "source": [
    "ramen_ratings[['Brand','Style']]"
   ]
  },
  {
   "cell_type": "code",
   "execution_count": null,
   "id": "82458651-be4e-4e4f-afd3-c42ad66a89f5",
   "metadata": {},
   "outputs": [],
   "source": [
    "ramen_ratings[['Country']]"
   ]
  },
  {
   "cell_type": "code",
   "execution_count": null,
   "id": "bdfb6c3e-483c-47f5-9c9b-14d22237a3c1",
   "metadata": {},
   "outputs": [],
   "source": [
    "ramen_ratings.sort_values('Stars', ascending=False)"
   ]
  },
  {
   "cell_type": "code",
   "execution_count": null,
   "id": "9220d5b4-d83d-417e-a1b0-5d725f99335a",
   "metadata": {},
   "outputs": [],
   "source": [
    "ramen_ratings['Country'] = ramen_ratings['Country'].str.replace('USA', 'United States')"
   ]
  },
  {
   "cell_type": "code",
   "execution_count": null,
   "id": "c31c3a33-2c0d-4550-9233-9b11a80235d0",
   "metadata": {},
   "outputs": [],
   "source": [
    "ramen_ratings.head()"
   ]
  },
  {
   "cell_type": "code",
   "execution_count": null,
   "id": "2686c66b-bee7-4063-bb66-7a5849600358",
   "metadata": {},
   "outputs": [],
   "source": [
    "ramen_ratings['Country'].nunique()"
   ]
  },
  {
   "cell_type": "code",
   "execution_count": null,
   "id": "062fd677-fb13-46ee-a119-51c5b10c3651",
   "metadata": {},
   "outputs": [],
   "source": [
    "ramen_ratings.groupby('Country').mean().sort_values('Stars', ascending=False).head(3)"
   ]
  },
  {
   "cell_type": "code",
   "execution_count": null,
   "id": "0a5a1da1-394d-45c9-8415-dce05591eb72",
   "metadata": {},
   "outputs": [],
   "source": [
    "ramen_ratings.groupby('Country').mean().sort_values('Stars', ascending=True).head(3)"
   ]
  },
  {
   "cell_type": "code",
   "execution_count": null,
   "id": "8379ff8a-06ab-468e-a1f8-19c0ea1afe3d",
   "metadata": {},
   "outputs": [],
   "source": [
    "%time ramen_ratings.groupby('Country').mean().sort_values('Stars', ascending=False).head(3)"
   ]
  }
 ],
 "metadata": {
  "kernelspec": {
   "display_name": "Python 3 (ipykernel)",
   "language": "python",
   "name": "python3"
  },
  "language_info": {
   "codemirror_mode": {
    "name": "ipython",
    "version": 3
   },
   "file_extension": ".py",
   "mimetype": "text/x-python",
   "name": "python",
   "nbconvert_exporter": "python",
   "pygments_lexer": "ipython3",
   "version": "3.9.13"
  }
 },
 "nbformat": 4,
 "nbformat_minor": 5
}
